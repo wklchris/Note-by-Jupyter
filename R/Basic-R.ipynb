{
 "cells": [
  {
   "cell_type": "markdown",
   "metadata": {},
   "source": [
    "# Basic Syntax of R\n",
    "\n",
    "*Chris Wu*  \n",
    "*2016年11月*\n",
    "\n",
    "本笔记的内容基于 R 3.3。大多数的代码在 Jupyter Notebook 或者 RStudio 中完成。"
   ]
  },
  {
   "cell_type": "markdown",
   "metadata": {},
   "source": [
    "## 基本概念\n",
    "\n",
    "一些基本的语法习惯罗列如下："
   ]
  },
  {
   "cell_type": "code",
   "execution_count": 1,
   "metadata": {
    "collapsed": true
   },
   "outputs": [],
   "source": [
    "x <- 1  # 赋值使用 <- 符号而不是等号。\n",
    "# Comment  # 行内注释使用“#”号，并与代码末尾空两格"
   ]
  },
  {
   "cell_type": "markdown",
   "metadata": {},
   "source": [
    "**帮助函数** 使你可以更方便地使用 R。在本笔记中不执行，请读者自行尝试。"
   ]
  },
  {
   "cell_type": "code",
   "execution_count": 2,
   "metadata": {
    "collapsed": false
   },
   "outputs": [],
   "source": [
    "# help(mean)  # 查看mean函数的使用帮助。也可以写 'mean'\n",
    "# example(mean)  # 显示mean函数的示例"
   ]
  },
  {
   "cell_type": "markdown",
   "metadata": {},
   "source": [
    "**工作空间** 包括了现在的所有变量。保存工作空间以便于下次读取，能够在下次工作时提升效率。"
   ]
  },
  {
   "cell_type": "code",
   "execution_count": 3,
   "metadata": {
    "collapsed": false
   },
   "outputs": [
    {
     "data": {
      "text/html": [
       "'E:/wkl/Programming/Note-by-Jupyter/R'"
      ],
      "text/latex": [
       "'E:/wkl/Programming/Note-by-Jupyter/R'"
      ],
      "text/markdown": [
       "'E:/wkl/Programming/Note-by-Jupyter/R'"
      ],
      "text/plain": [
       "[1] \"E:/wkl/Programming/Note-by-Jupyter/R\""
      ]
     },
     "metadata": {},
     "output_type": "display_data"
    }
   ],
   "source": [
    "getwd()  # 获取当前工作目录\n",
    "# setwd('c:/r')  # 设置工作目录。注意：路径请使用正斜杠(/)"
   ]
  },
  {
   "cell_type": "code",
   "execution_count": 4,
   "metadata": {
    "collapsed": true
   },
   "outputs": [],
   "source": [
    "save.image()  # 默认存储在当前工作目录下的 .RData 文件中。也可以自行指定文件名\n",
    "# load()  # 读取工作空间。默认从 .RData 读取。\n",
    "# save()"
   ]
  },
  {
   "cell_type": "markdown",
   "metadata": {},
   "source": [
    "**包** 是 R 强大的重要来源——这点与 Python 非常类似。管理这些包的语句有："
   ]
  },
  {
   "cell_type": "code",
   "execution_count": 5,
   "metadata": {
    "collapsed": true
   },
   "outputs": [],
   "source": [
    "# install.packages(c('pkg1', 'pkg2'))  # 输入一个包名称列表，以自动从 CRAN 下载并安装它们\n",
    "# update.packages()  # 更新包\n",
    "# installed.packages()  # 查看本地安装的所有包\n",
    "\n",
    "# library(pkg1)  # （用于正文中）加载包 pkg1。每个包内指令想要调用，必须先加载"
   ]
  }
 ],
 "metadata": {
  "kernelspec": {
   "display_name": "R 3.3",
   "language": "R",
   "name": "ir33"
  },
  "language_info": {
   "codemirror_mode": "r",
   "file_extension": ".r",
   "mimetype": "text/x-r-source",
   "name": "R",
   "pygments_lexer": "r",
   "version": "3.3.2"
  }
 },
 "nbformat": 4,
 "nbformat_minor": 1
}
