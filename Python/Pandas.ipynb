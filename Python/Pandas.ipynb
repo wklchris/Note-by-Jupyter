{
 "cells": [
  {
   "cell_type": "markdown",
   "metadata": {},
   "source": [
    "# Pandas\n",
    "\n",
    "*Chris Wu*  \n",
    "*2016年10月*\n",
    "\n",
    "Pandas 在处理数据方面提供了比 NumPy 更丰富的功能。NumPy 更多地用于数学计算，而 Pandas 则可以胜任许多数据分析的工作。在阅读 Pandas 之前，你最好有一些 NumPy 的基础概念（可以点这里：[NumPy](https://github.com/wklchris/Note-by-Jupyter/blob/master/Python/NumPy.ipynb)）。不过即便没有，你也可以不太困难地理解本笔记。\n",
    "\n",
    "本笔记全篇默认在代码前都加载了以下几行："
   ]
  },
  {
   "cell_type": "code",
   "execution_count": 1,
   "metadata": {
    "collapsed": true
   },
   "outputs": [],
   "source": [
    "import numpy as np\n",
    "from pandas import Series, DataFrame"
   ]
  }
 ],
 "metadata": {
  "kernelspec": {
   "display_name": "Python 3",
   "language": "python",
   "name": "python3"
  },
  "language_info": {
   "codemirror_mode": {
    "name": "ipython",
    "version": 3
   },
   "file_extension": ".py",
   "mimetype": "text/x-python",
   "name": "python",
   "nbconvert_exporter": "python",
   "pygments_lexer": "ipython3",
   "version": "3.4.4"
  }
 },
 "nbformat": 4,
 "nbformat_minor": 1
}
