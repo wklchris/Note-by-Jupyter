{
 "cells": [
  {
   "cell_type": "markdown",
   "metadata": {},
   "source": [
    "# NumPy\n",
    "\n",
    "*Chris Wu*  \n",
    "*2016年10月*\n",
    "\n",
    "---\n",
    "\n",
    "这里主要介绍 Numpy 部分的内容。默认在全文中使用："
   ]
  },
  {
   "cell_type": "code",
   "execution_count": 1,
   "metadata": {
    "collapsed": true,
    "slideshow": {
     "slide_type": "-"
    }
   },
   "outputs": [],
   "source": [
    "import numpy as np"
   ]
  },
  {
   "cell_type": "markdown",
   "metadata": {},
   "source": [
    "# Numpy：数组计算\n",
    "\n",
    "数组可以是高维的，但一般应用中是二维的（下文会将二维数组称为矩阵）。通常我们只会使用到二维的数组。\n",
    "\n",
    "## 创建数组\n",
    "\n",
    "数组的创建是最基础的。从列表用 np.array() 创建一个数组。"
   ]
  },
  {
   "cell_type": "code",
   "execution_count": 2,
   "metadata": {
    "collapsed": false
   },
   "outputs": [
    {
     "name": "stdout",
     "output_type": "stream",
     "text": [
      "[1 2 3 4 5 6]\n"
     ]
    }
   ],
   "source": [
    "dt1 = [1, 2, 3, 4, 5, 6]\n",
    "arr1 = np.array(dt1)\n",
    "print(arr1)  # 一行六列的数组"
   ]
  },
  {
   "cell_type": "code",
   "execution_count": 3,
   "metadata": {
    "collapsed": false
   },
   "outputs": [
    {
     "name": "stdout",
     "output_type": "stream",
     "text": [
      "[[1 2 3]\n",
      " [4 5 6]]\n"
     ]
    }
   ],
   "source": [
    "dt2 = [[1, 2, 3], [4, 5, 6]]\n",
    "arr2 = np.array(dt2)\n",
    "print(arr2)  # 自动识别为两行三列"
   ]
  },
  {
   "cell_type": "markdown",
   "metadata": {},
   "source": [
    "数组的“尺寸”通过 shape 命令可以获知："
   ]
  },
  {
   "cell_type": "code",
   "execution_count": 4,
   "metadata": {
    "collapsed": false
   },
   "outputs": [
    {
     "data": {
      "text/plain": [
       "(2, 3)"
      ]
     },
     "execution_count": 4,
     "metadata": {},
     "output_type": "execute_result"
    }
   ],
   "source": [
    "arr2.shape  # 返回结果是一个元组(tuple)"
   ]
  },
  {
   "cell_type": "markdown",
   "metadata": {},
   "source": [
    "## 特殊矩阵\n",
    "\n",
    "有许多数学中经常使用的特殊矩阵，可以通过 NumPy 内置的函数简便地生成。\n",
    "\n",
    "### 预分配内存：初始矩阵\n",
    "\n",
    "预分配内存空间，但不赋任何值。当你需要一个很大的矩阵时，预先分配内存空间是需要考虑的。**注意：np.empty() 产生的矩阵并不是严格的全零矩阵！全零矩阵请使用后面介绍的命令 np.zeros().**"
   ]
  },
  {
   "cell_type": "code",
   "execution_count": 5,
   "metadata": {
    "collapsed": false
   },
   "outputs": [
    {
     "data": {
      "text/plain": [
       "array([[ 0.,  0.,  0.],\n",
       "       [ 0.,  0.,  0.]])"
      ]
     },
     "execution_count": 5,
     "metadata": {},
     "output_type": "execute_result"
    }
   ],
   "source": [
    "np.empty([2, 3])  # 不是严格全零的！"
   ]
  },
  {
   "cell_type": "markdown",
   "metadata": {},
   "source": [
    "仿造一个现有的矩阵，创建一个尺寸相同的初始矩阵："
   ]
  },
  {
   "cell_type": "code",
   "execution_count": 6,
   "metadata": {
    "collapsed": false
   },
   "outputs": [
    {
     "data": {
      "text/plain": [
       "array([[0, 0, 0],\n",
       "       [0, 0, 0]])"
      ]
     },
     "execution_count": 6,
     "metadata": {},
     "output_type": "execute_result"
    }
   ],
   "source": [
    "np.empty_like(arr2)  # 不是严格全零的！"
   ]
  },
  {
   "cell_type": "markdown",
   "metadata": {},
   "source": [
    "### 全0矩阵 / 全1矩阵\n",
    "\n",
    "命令 np.zeros(m, n) 可以创建一个 m 行 n 列的矩阵。你也可以赋予它更多的维度（比如 np.zeros(m, n, p) 就能生成一个三维数组，但在这里不讨论）。而 np.ones() 则可以创建全一矩阵。"
   ]
  },
  {
   "cell_type": "code",
   "execution_count": 7,
   "metadata": {
    "collapsed": false
   },
   "outputs": [
    {
     "data": {
      "text/plain": [
       "array([ 0.,  0.,  0.])"
      ]
     },
     "execution_count": 7,
     "metadata": {},
     "output_type": "execute_result"
    }
   ],
   "source": [
    "np.zeros(3)  # 1行3列全零矩阵"
   ]
  },
  {
   "cell_type": "code",
   "execution_count": 8,
   "metadata": {
    "collapsed": false
   },
   "outputs": [
    {
     "data": {
      "text/plain": [
       "array([[ 1.,  1.,  1.],\n",
       "       [ 1.,  1.,  1.]])"
      ]
     },
     "execution_count": 8,
     "metadata": {},
     "output_type": "execute_result"
    }
   ],
   "source": [
    "np.ones([2, 3])  # 2行3列全零矩阵"
   ]
  },
  {
   "cell_type": "markdown",
   "metadata": {},
   "source": [
    "同样，你也可以生成一个与现有矩阵尺寸一致的全零或全一矩阵："
   ]
  },
  {
   "cell_type": "code",
   "execution_count": 9,
   "metadata": {
    "collapsed": false
   },
   "outputs": [
    {
     "data": {
      "text/plain": [
       "array([[1, 1, 1],\n",
       "       [1, 1, 1]])"
      ]
     },
     "execution_count": 9,
     "metadata": {},
     "output_type": "execute_result"
    }
   ],
   "source": [
    "np.ones_like(arr2)  # 与 np.ones(arr2.shape) 功能一样"
   ]
  },
  {
   "cell_type": "code",
   "execution_count": 10,
   "metadata": {
    "collapsed": false
   },
   "outputs": [
    {
     "data": {
      "text/plain": [
       "array([[0, 0, 0],\n",
       "       [0, 0, 0]])"
      ]
     },
     "execution_count": 10,
     "metadata": {},
     "output_type": "execute_result"
    }
   ],
   "source": [
    "np.zeros_like(arr2)"
   ]
  },
  {
   "cell_type": "markdown",
   "metadata": {},
   "source": [
    "### 等差数列\n",
    "\n",
    "命令 np.arange() 可以产生一系列等差数列值作为一个1行N列的矩阵。它非常像原生 Python 中的 range 命令。"
   ]
  },
  {
   "cell_type": "code",
   "execution_count": 11,
   "metadata": {
    "collapsed": false
   },
   "outputs": [
    {
     "data": {
      "text/plain": [
       "array([1, 3, 5, 7])"
      ]
     },
     "execution_count": 11,
     "metadata": {},
     "output_type": "execute_result"
    }
   ],
   "source": [
    "np.arange(1, 9, 2)  # 不包括尾端数字“9”"
   ]
  },
  {
   "cell_type": "markdown",
   "metadata": {},
   "source": [
    "### 单位阵\n",
    "\n",
    "单位阵，或称单位矩阵，仅主对角线是1，其余是0。"
   ]
  },
  {
   "cell_type": "code",
   "execution_count": 12,
   "metadata": {
    "collapsed": false
   },
   "outputs": [
    {
     "data": {
      "text/plain": [
       "array([[ 1.,  0.,  0.],\n",
       "       [ 0.,  1.,  0.]])"
      ]
     },
     "execution_count": 12,
     "metadata": {},
     "output_type": "execute_result"
    }
   ],
   "source": [
    "np.eye(2, 3)  # 可以是严格正方形单位阵，也可以不严格。"
   ]
  },
  {
   "cell_type": "code",
   "execution_count": 13,
   "metadata": {
    "collapsed": false
   },
   "outputs": [
    {
     "data": {
      "text/plain": [
       "array([[ 1.,  0.,  0.],\n",
       "       [ 0.,  1.,  0.],\n",
       "       [ 0.,  0.,  1.]])"
      ]
     },
     "execution_count": 13,
     "metadata": {},
     "output_type": "execute_result"
    }
   ],
   "source": [
    "np.identity(3)  # 严格正方形单位阵。"
   ]
  },
  {
   "cell_type": "markdown",
   "metadata": {},
   "source": [
    "## 矩阵基本操作\n",
    "\n",
    "### 复制\n",
    "\n",
    "NumPy 中对矩阵的任何截取操作**都不会产生新的变量**，除非你使用复制命令 copy()。如果你对原数据进行了更改，那么截取结果也会发生变化。例子："
   ]
  },
  {
   "cell_type": "code",
   "execution_count": 14,
   "metadata": {
    "collapsed": false
   },
   "outputs": [
    {
     "data": {
      "text/plain": [
       "array([7, 8, 9])"
      ]
     },
     "execution_count": 14,
     "metadata": {},
     "output_type": "execute_result"
    }
   ],
   "source": [
    "arr = np.array([[1, 2, 3], [4, 5, 6]])\n",
    "temp = arr[1]  # 第二行\n",
    "\n",
    "arr[1] = [7, 8, 9]\n",
    "temp"
   ]
  },
  {
   "cell_type": "code",
   "execution_count": 15,
   "metadata": {
    "collapsed": false
   },
   "outputs": [
    {
     "data": {
      "text/plain": [
       "array([4, 5, 6])"
      ]
     },
     "execution_count": 15,
     "metadata": {},
     "output_type": "execute_result"
    }
   ],
   "source": [
    "arr = np.array([[1, 2, 3], [4, 5, 6]])\n",
    "temp = arr[1].copy()  # 第二行\n",
    "\n",
    "arr[1] = [7, 8, 9]\n",
    "temp"
   ]
  },
  {
   "cell_type": "markdown",
   "metadata": {},
   "source": [
    "### 切片\n",
    "\n",
    "与 Python 原生序列的切片操作类似："
   ]
  },
  {
   "cell_type": "code",
   "execution_count": 16,
   "metadata": {
    "collapsed": false
   },
   "outputs": [
    {
     "data": {
      "text/plain": [
       "array([[1, 2],\n",
       "       [7, 8]])"
      ]
     },
     "execution_count": 16,
     "metadata": {},
     "output_type": "execute_result"
    }
   ],
   "source": [
    "arr[:, :2]"
   ]
  },
  {
   "cell_type": "markdown",
   "metadata": {},
   "source": [
    "注意，如果只传入一个参数，默认是矩阵的行。比如这个表示矩阵的第二行："
   ]
  },
  {
   "cell_type": "code",
   "execution_count": 17,
   "metadata": {
    "collapsed": false
   },
   "outputs": [
    {
     "data": {
      "text/plain": [
       "array([7, 8, 9])"
      ]
     },
     "execution_count": 17,
     "metadata": {},
     "output_type": "execute_result"
    }
   ],
   "source": [
    "arr[1]"
   ]
  },
  {
   "cell_type": "markdown",
   "metadata": {},
   "source": [
    "### 尺寸重塑\n",
    "\n",
    "利用 arr.reshape(m, n) 命令可以把矩阵 arr 重塑成为一个 m 行 n 列的矩阵。"
   ]
  },
  {
   "cell_type": "code",
   "execution_count": 18,
   "metadata": {
    "collapsed": false
   },
   "outputs": [
    {
     "data": {
      "text/plain": [
       "array([[ 0,  1,  2,  3],\n",
       "       [ 4,  5,  6,  7],\n",
       "       [ 8,  9, 10, 11]])"
      ]
     },
     "execution_count": 18,
     "metadata": {},
     "output_type": "execute_result"
    }
   ],
   "source": [
    "arr = np.arange(0, 12).reshape(3, 4)\n",
    "arr"
   ]
  },
  {
   "cell_type": "markdown",
   "metadata": {},
   "source": [
    "### 转置\n",
    "\n",
    "矩阵的转置是常用的操作之一。"
   ]
  },
  {
   "cell_type": "code",
   "execution_count": 19,
   "metadata": {
    "collapsed": false
   },
   "outputs": [
    {
     "data": {
      "text/plain": [
       "array([[ 0,  4,  8],\n",
       "       [ 1,  5,  9],\n",
       "       [ 2,  6, 10],\n",
       "       [ 3,  7, 11]])"
      ]
     },
     "execution_count": 19,
     "metadata": {},
     "output_type": "execute_result"
    }
   ],
   "source": [
    "arr.T"
   ]
  },
  {
   "cell_type": "markdown",
   "metadata": {},
   "source": [
    "## 元素函数\n",
    "\n",
    "直接从元素操作中移植的函数，比如幂指函数等等。一元函数调用形式是 np.function(arr) 简表如下：\n",
    "\n",
    "| 一元函数 | 含义 |\n",
    "| --- | --- |\n",
    "| abs/fabs | 求模。对于非复数矩阵，fabs更快。 |\n",
    "| sqrt/square | 平方根/平方 |\n",
    "| exp | 指数 |\n",
    "| log/log10/log2/log1p | 对数：自然对数/10/2为底，以及以2为底的log(1+x) |\n",
    "| sign | 正负号判断函数：返回 1, 0, 或者 -1 |\n",
    "| ceil/floor | 向上取整/向下取整 |\n",
    "| rint | 四舍五入到整数 |\n",
    "| isnan | 返回关于非数值（np.nan）判断的布尔型数组 |\n",
    "| isfinite/isinf | 判断非无限大值/无限大值 |\n",
    "| sin/cos/tan | 三角函数 |\n",
    "| arcsin/arccos/arctan | 反三角函数 |\n",
    "| sinh/cosh/tanh/arcsinh/arccosh/arctanh | 以上三角函数的双曲形式 |\n",
    "\n",
    "以及矩阵的二元函数，调用形式是 np.function(x, y)：\n",
    "\n",
    "| 二元函数 | 含义 |\n",
    "| --- | --- |\n",
    "| add/substract/multiply | 元素相加/相减/相乘 |\n",
    "| divide/floor_divide | 除法及向下整除法（弃余数） |\n",
    "| power | 计算 x(i,j)^y(i,j) |\n",
    "| maximum/fmax | 元素级的最大值。fmax 表示忽略 NaN |\n",
    "| | *注：在比较含有 NaN 的矩阵时可能出现问题，我尚不清楚 NumPy 做出了怎样的改变。* |\n",
    "| minimum/fmin | 仿上 |\n",
    "| mod | 取余 |\n",
    "| copysign | 将y的符号传递给x中的对应元素 |"
   ]
  },
  {
   "cell_type": "code",
   "execution_count": 20,
   "metadata": {
    "collapsed": false
   },
   "outputs": [
    {
     "data": {
      "text/plain": [
       "array([ 5.,  3.])"
      ]
     },
     "execution_count": 20,
     "metadata": {},
     "output_type": "execute_result"
    }
   ],
   "source": [
    "np.abs(np.array([3 + 4j, -3]))  # 求模"
   ]
  },
  {
   "cell_type": "code",
   "execution_count": 21,
   "metadata": {
    "collapsed": false
   },
   "outputs": [
    {
     "data": {
      "text/plain": [
       "array([  7.,  inf])"
      ]
     },
     "execution_count": 21,
     "metadata": {},
     "output_type": "execute_result"
    }
   ],
   "source": [
    "arr2 = np.array([7, 6])\n",
    "arr3 = np.array([1, np.inf])\n",
    "\n",
    "np.fmax(arr2, arr3)   # 求最大值"
   ]
  }
 ],
 "metadata": {
  "kernelspec": {
   "display_name": "Python 3",
   "language": "python",
   "name": "python3"
  },
  "language_info": {
   "codemirror_mode": {
    "name": "ipython",
    "version": 3
   },
   "file_extension": ".py",
   "mimetype": "text/x-python",
   "name": "python",
   "nbconvert_exporter": "python",
   "pygments_lexer": "ipython3",
   "version": "3.4.4"
  }
 },
 "nbformat": 4,
 "nbformat_minor": 1
}
