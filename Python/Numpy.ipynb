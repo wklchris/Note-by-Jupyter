{
 "cells": [
  {
   "cell_type": "markdown",
   "metadata": {},
   "source": [
    "# NumPy\n",
    "\n",
    "*Chris Wu*  \n",
    "*2016年12月*\n",
    "\n",
    "---\n",
    "\n",
    "这里主要介绍 Numpy 部分的内容。**Pandas 比 NumPy 在数据处理方面更强大**；如果你不想进行模型和算法方面的深入，而仅仅是处理数据，你可以跳过 NumPy 部分的内容。\n",
    "\n",
    "我默认在全文的所有代码中加载下面这一行："
   ]
  },
  {
   "cell_type": "code",
   "execution_count": 1,
   "metadata": {
    "collapsed": true,
    "slideshow": {
     "slide_type": "-"
    }
   },
   "outputs": [],
   "source": [
    "import numpy as np"
   ]
  },
  {
   "cell_type": "markdown",
   "metadata": {},
   "source": [
    "# Numpy：数组计算\n",
    "\n",
    "数组可以是高维的，但一般应用中是二维的（下文会将二维数组称为矩阵）。通常我们只会使用到二维的数组。\n",
    "\n",
    "## 创建数组\n",
    "\n",
    "数组的创建是最基础的。从列表用 np.array() 创建一个数组。"
   ]
  },
  {
   "cell_type": "code",
   "execution_count": 2,
   "metadata": {
    "collapsed": false
   },
   "outputs": [
    {
     "name": "stdout",
     "output_type": "stream",
     "text": [
      "[1 2 3 4 5 6]\n"
     ]
    }
   ],
   "source": [
    "dt1 = [1, 2, 3, 4, 5, 6]\n",
    "arr1 = np.array(dt1)\n",
    "print(arr1)  # 一行六列的数组"
   ]
  },
  {
   "cell_type": "code",
   "execution_count": 3,
   "metadata": {
    "collapsed": false
   },
   "outputs": [
    {
     "name": "stdout",
     "output_type": "stream",
     "text": [
      "[[1 2 3]\n",
      " [4 5 6]]\n"
     ]
    }
   ],
   "source": [
    "dt2 = [[1, 2, 3], [4, 5, 6]]\n",
    "arr2 = np.array(dt2)\n",
    "print(arr2)  # 自动识别为两行三列"
   ]
  },
  {
   "cell_type": "markdown",
   "metadata": {},
   "source": [
    "数组的“尺寸”通过 shape 命令可以获知，维度通过 ndim 命令可以获知："
   ]
  },
  {
   "cell_type": "code",
   "execution_count": 4,
   "metadata": {
    "collapsed": false
   },
   "outputs": [
    {
     "name": "stdout",
     "output_type": "stream",
     "text": [
      "(2, 3) \n",
      " 2 \n",
      " 6\n"
     ]
    }
   ],
   "source": [
    "print(arr2.shape, '\\n',  # 返回结果是一个元组(tuple)\n",
    "      arr2.ndim, '\\n',   # 返回结果是数组的维度（即“轴”的数量，这里只有行和列）\n",
    "      arr2.size)         # 返回结果是数组的总元素个数"
   ]
  },
  {
   "cell_type": "markdown",
   "metadata": {},
   "source": [
    "## 特殊矩阵\n",
    "\n",
    "有许多数学中经常使用的特殊矩阵，可以通过 NumPy 内置的函数简便地生成。\n",
    "\n",
    "### 预分配内存：初始矩阵\n",
    "\n",
    "预分配内存空间，但不赋任何值。当你需要一个很大的矩阵时，预先分配内存空间是需要考虑的。**注意：np.empty() 产生的矩阵并不是严格的全零矩阵！全零矩阵请使用后面介绍的命令 np.zeros().**"
   ]
  },
  {
   "cell_type": "code",
   "execution_count": 5,
   "metadata": {
    "collapsed": false
   },
   "outputs": [
    {
     "data": {
      "text/plain": [
       "array([[ 0.,  0.,  0.],\n",
       "       [ 0.,  0.,  0.]])"
      ]
     },
     "execution_count": 5,
     "metadata": {},
     "output_type": "execute_result"
    }
   ],
   "source": [
    "np.empty([2, 3])  # 不是严格全零的！"
   ]
  },
  {
   "cell_type": "markdown",
   "metadata": {},
   "source": [
    "仿造一个现有的矩阵，创建一个尺寸相同的初始矩阵："
   ]
  },
  {
   "cell_type": "code",
   "execution_count": 6,
   "metadata": {
    "collapsed": false
   },
   "outputs": [
    {
     "data": {
      "text/plain": [
       "array([[0, 0, 0],\n",
       "       [0, 0, 0]])"
      ]
     },
     "execution_count": 6,
     "metadata": {},
     "output_type": "execute_result"
    }
   ],
   "source": [
    "np.empty_like(arr2)  # 不是严格全零的！"
   ]
  },
  {
   "cell_type": "markdown",
   "metadata": {},
   "source": [
    "### 全0矩阵 / 全1矩阵\n",
    "\n",
    "命令 np.zeros([m, n]) 可以创建一个 m 行 n 列的矩阵。而 np.ones() 则可以创建全 1 矩阵。"
   ]
  },
  {
   "cell_type": "code",
   "execution_count": 7,
   "metadata": {
    "collapsed": false
   },
   "outputs": [
    {
     "data": {
      "text/plain": [
       "array([[ 1.,  1.,  1.],\n",
       "       [ 1.,  1.,  1.]])"
      ]
     },
     "execution_count": 7,
     "metadata": {},
     "output_type": "execute_result"
    }
   ],
   "source": [
    "np.ones([2, 3])  # 2行3列全零矩阵"
   ]
  },
  {
   "cell_type": "markdown",
   "metadata": {},
   "source": [
    "同样，你也可以生成一个与现有矩阵尺寸一致的全零或全一矩阵："
   ]
  },
  {
   "cell_type": "code",
   "execution_count": 8,
   "metadata": {
    "collapsed": false
   },
   "outputs": [
    {
     "data": {
      "text/plain": [
       "array([[1, 1, 1],\n",
       "       [1, 1, 1]])"
      ]
     },
     "execution_count": 8,
     "metadata": {},
     "output_type": "execute_result"
    }
   ],
   "source": [
    "np.ones_like(arr2)  # 与 np.ones(arr2.shape) 功能一样"
   ]
  },
  {
   "cell_type": "code",
   "execution_count": 9,
   "metadata": {
    "collapsed": false
   },
   "outputs": [
    {
     "data": {
      "text/plain": [
       "array([[0, 0, 0],\n",
       "       [0, 0, 0]])"
      ]
     },
     "execution_count": 9,
     "metadata": {},
     "output_type": "execute_result"
    }
   ],
   "source": [
    "np.zeros_like(arr2)"
   ]
  },
  {
   "cell_type": "markdown",
   "metadata": {},
   "source": [
    "### 等差数列\n",
    "\n",
    "命令 np.arange() 可以产生一系列等差数列值作为一个1行N列的矩阵。它非常像原生 Python 中的 range 命令。"
   ]
  },
  {
   "cell_type": "code",
   "execution_count": 10,
   "metadata": {
    "collapsed": false
   },
   "outputs": [
    {
     "data": {
      "text/plain": [
       "array([1, 3, 5, 7])"
      ]
     },
     "execution_count": 10,
     "metadata": {},
     "output_type": "execute_result"
    }
   ],
   "source": [
    "np.arange(1, 9, 2)  # 不包括尾端数字“9”"
   ]
  },
  {
   "cell_type": "markdown",
   "metadata": {},
   "source": [
    "但更通常地，我们使用 np.linspace 命令，因为这样**可以指定生成结果的元素个数**："
   ]
  },
  {
   "cell_type": "code",
   "execution_count": 11,
   "metadata": {
    "collapsed": false
   },
   "outputs": [
    {
     "data": {
      "text/plain": [
       "array([ 1.,  3.,  5.,  7.])"
      ]
     },
     "execution_count": 11,
     "metadata": {},
     "output_type": "execute_result"
    }
   ],
   "source": [
    "np.linspace(1, 7, 4)  # 包括尾端数字“7”，等距生成4个数"
   ]
  },
  {
   "cell_type": "markdown",
   "metadata": {},
   "source": [
    "### 单位阵\n",
    "\n",
    "单位阵，或称单位矩阵，仅主对角线是1，其余是0。"
   ]
  },
  {
   "cell_type": "code",
   "execution_count": 12,
   "metadata": {
    "collapsed": false
   },
   "outputs": [
    {
     "data": {
      "text/plain": [
       "array([[ 1.,  0.,  0.],\n",
       "       [ 0.,  1.,  0.]])"
      ]
     },
     "execution_count": 12,
     "metadata": {},
     "output_type": "execute_result"
    }
   ],
   "source": [
    "np.eye(2, 3)  # 可以是严格正方形单位阵，也可以不严格。"
   ]
  },
  {
   "cell_type": "code",
   "execution_count": 13,
   "metadata": {
    "collapsed": false
   },
   "outputs": [
    {
     "data": {
      "text/plain": [
       "array([[ 1.,  0.,  0.],\n",
       "       [ 0.,  1.,  0.],\n",
       "       [ 0.,  0.,  1.]])"
      ]
     },
     "execution_count": 13,
     "metadata": {},
     "output_type": "execute_result"
    }
   ],
   "source": [
    "np.identity(3)  # 严格正方形单位阵。"
   ]
  },
  {
   "cell_type": "markdown",
   "metadata": {},
   "source": [
    "### 随机数矩阵\n",
    "\n",
    "利用 np.random.rand（从0到1的均匀分布）或者 np.random.randn（标准正态分布）命令："
   ]
  },
  {
   "cell_type": "code",
   "execution_count": 14,
   "metadata": {
    "collapsed": false
   },
   "outputs": [],
   "source": [
    "# 由于每次运行结果不一样，因此就不执行这两行了。\n",
    "# np.random.rand(3, 2)\n",
    "# np.random.randn(3, 2)"
   ]
  },
  {
   "cell_type": "markdown",
   "metadata": {},
   "source": [
    "## 矩阵内操作\n",
    "\n",
    "### 复制\n",
    "\n",
    "NumPy 中对矩阵的任何截取操作**都不会产生新的变量**，除非你使用复制命令 copy()。如果你对原数据进行了更改，那么截取结果也会发生变化。例子："
   ]
  },
  {
   "cell_type": "code",
   "execution_count": 15,
   "metadata": {
    "collapsed": false
   },
   "outputs": [
    {
     "data": {
      "text/plain": [
       "array([7, 8, 9])"
      ]
     },
     "execution_count": 15,
     "metadata": {},
     "output_type": "execute_result"
    }
   ],
   "source": [
    "arr = np.array([[1, 2, 3], [4, 5, 6]])\n",
    "temp = arr[1]  # 第二行\n",
    "\n",
    "arr[1] = [7, 8, 9]\n",
    "temp"
   ]
  },
  {
   "cell_type": "code",
   "execution_count": 16,
   "metadata": {
    "collapsed": false
   },
   "outputs": [
    {
     "data": {
      "text/plain": [
       "array([4, 5, 6])"
      ]
     },
     "execution_count": 16,
     "metadata": {},
     "output_type": "execute_result"
    }
   ],
   "source": [
    "arr = np.array([[1, 2, 3], [4, 5, 6]])\n",
    "temp = arr[1].copy()  # 第二行\n",
    "\n",
    "arr[1] = [7, 8, 9]\n",
    "temp"
   ]
  },
  {
   "cell_type": "markdown",
   "metadata": {},
   "source": [
    "### 切片\n",
    "\n",
    "与 Python 原生序列的切片操作类似："
   ]
  },
  {
   "cell_type": "code",
   "execution_count": 17,
   "metadata": {
    "collapsed": false
   },
   "outputs": [
    {
     "data": {
      "text/plain": [
       "array([[1, 2],\n",
       "       [7, 8]])"
      ]
     },
     "execution_count": 17,
     "metadata": {},
     "output_type": "execute_result"
    }
   ],
   "source": [
    "arr[:, :2]"
   ]
  },
  {
   "cell_type": "markdown",
   "metadata": {},
   "source": [
    "注意，如果只传入一个参数，默认是矩阵的行。比如这个表示矩阵的第二行："
   ]
  },
  {
   "cell_type": "code",
   "execution_count": 18,
   "metadata": {
    "collapsed": false
   },
   "outputs": [
    {
     "data": {
      "text/plain": [
       "array([7, 8, 9])"
      ]
     },
     "execution_count": 18,
     "metadata": {},
     "output_type": "execute_result"
    }
   ],
   "source": [
    "arr[1]"
   ]
  },
  {
   "cell_type": "markdown",
   "metadata": {},
   "source": [
    "### 尺寸重塑\n",
    "\n",
    "利用 arr.reshape(m, n) 命令可以把矩阵 arr 重塑成为一个 m 行 n 列的矩阵。**如果你想更改原矩阵而非产生一个新矩阵，使用 arr.resize 命令**。"
   ]
  },
  {
   "cell_type": "code",
   "execution_count": 19,
   "metadata": {
    "collapsed": false
   },
   "outputs": [
    {
     "data": {
      "text/plain": [
       "array([[ 0,  1,  2,  3],\n",
       "       [ 4,  5,  6,  7],\n",
       "       [ 8,  9, 10, 11]])"
      ]
     },
     "execution_count": 19,
     "metadata": {},
     "output_type": "execute_result"
    }
   ],
   "source": [
    "arr = np.arange(0, 12).reshape(3, 4)\n",
    "arr"
   ]
  },
  {
   "cell_type": "code",
   "execution_count": 20,
   "metadata": {
    "collapsed": false
   },
   "outputs": [
    {
     "data": {
      "text/plain": [
       "array([[ 0,  1,  2,  3,  4,  5],\n",
       "       [ 6,  7,  8,  9, 10, 11]])"
      ]
     },
     "execution_count": 20,
     "metadata": {},
     "output_type": "execute_result"
    }
   ],
   "source": [
    "arr.resize(2, 6)\n",
    "arr"
   ]
  },
  {
   "cell_type": "markdown",
   "metadata": {},
   "source": [
    "另一个命令 arr.ravel() 则能把矩阵变为一个行向量。它还可以配合 order 参数。常用的取值有按照行读取（C，默认）或列读取（F）。"
   ]
  },
  {
   "cell_type": "code",
   "execution_count": 21,
   "metadata": {
    "collapsed": false
   },
   "outputs": [
    {
     "data": {
      "text/plain": [
       "array([ 0,  6,  1,  7,  2,  8,  3,  9,  4, 10,  5, 11])"
      ]
     },
     "execution_count": 21,
     "metadata": {},
     "output_type": "execute_result"
    }
   ],
   "source": [
    "arr.ravel(order='F')"
   ]
  },
  {
   "cell_type": "markdown",
   "metadata": {},
   "source": [
    "### 转置\n",
    "\n",
    "矩阵的转置是常用的操作之一。"
   ]
  },
  {
   "cell_type": "code",
   "execution_count": 22,
   "metadata": {
    "collapsed": false
   },
   "outputs": [
    {
     "data": {
      "text/plain": [
       "array([[ 0,  6],\n",
       "       [ 1,  7],\n",
       "       [ 2,  8],\n",
       "       [ 3,  9],\n",
       "       [ 4, 10],\n",
       "       [ 5, 11]])"
      ]
     },
     "execution_count": 22,
     "metadata": {},
     "output_type": "execute_result"
    }
   ],
   "source": [
    "arr.T"
   ]
  },
  {
   "cell_type": "markdown",
   "metadata": {},
   "source": [
    "## 矩阵间操作\n",
    "\n",
    "矩阵间的操作大致分为矩阵级和元素级两种。"
   ]
  },
  {
   "cell_type": "markdown",
   "metadata": {},
   "source": [
    "### 矩阵乘法\n",
    "\n",
    "矩阵的加减法没什么好说的。先看矩阵的乘法："
   ]
  },
  {
   "cell_type": "code",
   "execution_count": 23,
   "metadata": {
    "collapsed": false
   },
   "outputs": [
    {
     "data": {
      "text/plain": [
       "array([[ 28.,  34.],\n",
       "       [ 64.,  79.]])"
      ]
     },
     "execution_count": 23,
     "metadata": {},
     "output_type": "execute_result"
    }
   ],
   "source": [
    "a = np.linspace(1, 6, 6).reshape(2, 3)\n",
    "b = np.linspace(2, 7, 6).reshape(3, 2)\n",
    "np.dot(a, b)  # 或者用 a.dot(b) 也可以改"
   ]
  },
  {
   "cell_type": "markdown",
   "metadata": {},
   "source": [
    "### 矩阵组合\n",
    "\n",
    "可以从竖直方向或者水平方向合并。"
   ]
  },
  {
   "cell_type": "code",
   "execution_count": 24,
   "metadata": {
    "collapsed": false
   },
   "outputs": [
    {
     "data": {
      "text/plain": [
       "array([[1, 2],\n",
       "       [3, 4],\n",
       "       [5, 6],\n",
       "       [7, 8]])"
      ]
     },
     "execution_count": 24,
     "metadata": {},
     "output_type": "execute_result"
    }
   ],
   "source": [
    "a = np.arange(1, 5).reshape(2, 2)\n",
    "b = np.arange(5, 9).reshape(2, 2)\n",
    "\n",
    "np.vstack((a, b))  # 也可以写 np.vstack([a, b])"
   ]
  },
  {
   "cell_type": "code",
   "execution_count": 25,
   "metadata": {
    "collapsed": false
   },
   "outputs": [
    {
     "data": {
      "text/plain": [
       "array([[1, 2, 5, 6],\n",
       "       [3, 4, 7, 8]])"
      ]
     },
     "execution_count": 25,
     "metadata": {},
     "output_type": "execute_result"
    }
   ],
   "source": [
    "np.hstack((a, b))"
   ]
  },
  {
   "cell_type": "markdown",
   "metadata": {},
   "source": [
    "### 一元与二元函数\n",
    "\n",
    "直接从元素操作中移植的函数，比如幂指函数等等。一元函数调用形式是 np.function(arr) 简表如下：\n",
    "\n",
    "| 一元函数 | 含义 |\n",
    "| --- | --- |\n",
    "| abs/fabs | 求模。对于非复数矩阵，fabs更快。 |\n",
    "| sqrt/square | 平方根/平方 |\n",
    "| exp | 指数 |\n",
    "| log/log10/log2/log1p | 对数：自然对数/10/2为底，以及以2为底的log(1+x) |\n",
    "| sign | 正负号判断函数：返回 1, 0, 或者 -1 |\n",
    "| ceil/floor | 向上取整/向下取整 |\n",
    "| rint | 四舍五入到整数 |\n",
    "| isnan | 返回关于非数值（np.nan）判断的布尔型数组 |\n",
    "| isfinite/isinf | 判断非无限大值/无限大值 |\n",
    "| sin/cos/tan | 三角函数 |\n",
    "| arcsin/arccos/arctan | 反三角函数 |\n",
    "| sinh/cosh/tanh/arcsinh/arccosh/arctanh | 以上三角函数的双曲形式 |\n",
    "\n",
    "以及矩阵的二元函数，调用形式是 np.function(x, y)：\n",
    "\n",
    "| 二元函数 | 含义 |\n",
    "| --- | --- |\n",
    "| add/substract/multiply | 对应元素相加/相减/相乘 |\n",
    "| divide/floor_divide | 对应元素除法及向下整除法（弃余数） |\n",
    "| power | 计算 x(i,j)^y(i,j) |\n",
    "| maximum/fmax | 元素级的最大值。fmax 表示忽略 NaN |\n",
    "| | *注：在比较含有 NaN 的矩阵时可能出现问题，我尚不清楚 NumPy 做出了怎样的改变。* |\n",
    "| minimum/fmin | 仿上 |\n",
    "| mod | 取余 |\n",
    "| copysign | 将y的符号传递给x中的对应元素 |\n",
    "\n",
    "### 统计函数\n",
    "\n",
    "一些与统计相关的函数，或者简单分析矩阵数据特征的函数：\n",
    "\n",
    "| 统计函数 | 含义 |\n",
    "| --- | --- |\n",
    "| average/mean | 平均值。其中 average 还可以用 weight 参数指定权重 |\n",
    "| median | 中位数 |\n",
    "| diff | 一阶差分 |\n",
    "| cumsum/cumprod | 累和／累积 | \n",
    "| sum/prod | 求和 / 求积 |\n",
    "| std/var | 标准差 / 方差 |"
   ]
  },
  {
   "cell_type": "markdown",
   "metadata": {},
   "source": [
    "一些例子："
   ]
  },
  {
   "cell_type": "code",
   "execution_count": 26,
   "metadata": {
    "collapsed": false
   },
   "outputs": [
    {
     "data": {
      "text/plain": [
       "array([  1,   2,   6,  24, 120, 720], dtype=int32)"
      ]
     },
     "execution_count": 26,
     "metadata": {},
     "output_type": "execute_result"
    }
   ],
   "source": [
    "np.cumprod(np.arange(1, 7))  # 累积"
   ]
  },
  {
   "cell_type": "code",
   "execution_count": 27,
   "metadata": {
    "collapsed": false
   },
   "outputs": [
    {
     "data": {
      "text/plain": [
       "array([ 0.75,  2.75,  4.75])"
      ]
     },
     "execution_count": 27,
     "metadata": {},
     "output_type": "execute_result"
    }
   ],
   "source": [
    "np.average(np.arange(6).reshape((3,2)), axis=1, weights=[1./4, 3./4])  # 加权平均值"
   ]
  },
  {
   "cell_type": "code",
   "execution_count": 28,
   "metadata": {
    "collapsed": false
   },
   "outputs": [
    {
     "data": {
      "text/plain": [
       "array([ 5.,  3.])"
      ]
     },
     "execution_count": 28,
     "metadata": {},
     "output_type": "execute_result"
    }
   ],
   "source": [
    "np.abs(np.array([3 + 4j, -3]))  # 求模"
   ]
  },
  {
   "cell_type": "code",
   "execution_count": 29,
   "metadata": {
    "collapsed": false
   },
   "outputs": [
    {
     "data": {
      "text/plain": [
       "array([  7.,  inf])"
      ]
     },
     "execution_count": 29,
     "metadata": {},
     "output_type": "execute_result"
    }
   ],
   "source": [
    "arr2 = np.array([7, 6])\n",
    "arr3 = np.array([1, np.inf])\n",
    "\n",
    "np.fmax(arr2, arr3)   # 求最大值"
   ]
  },
  {
   "cell_type": "markdown",
   "metadata": {},
   "source": [
    "## 其他线性代数命令"
   ]
  },
  {
   "cell_type": "code",
   "execution_count": 30,
   "metadata": {
    "collapsed": false
   },
   "outputs": [
    {
     "data": {
      "text/plain": [
       "array([[1, 4],\n",
       "       [2, 3]])"
      ]
     },
     "execution_count": 30,
     "metadata": {},
     "output_type": "execute_result"
    }
   ],
   "source": [
    "arr = np.array([[1, 2], [4, 3]])\n",
    "\n",
    "arr.T  # 矩阵转置。两者等效\n",
    "arr.transpose()"
   ]
  },
  {
   "cell_type": "code",
   "execution_count": 31,
   "metadata": {
    "collapsed": false
   },
   "outputs": [
    {
     "data": {
      "text/plain": [
       "array([[-0.6,  0.4],\n",
       "       [ 0.8, -0.2]])"
      ]
     },
     "execution_count": 31,
     "metadata": {},
     "output_type": "execute_result"
    }
   ],
   "source": [
    "np.linalg.inv(arr)  # 求逆矩阵"
   ]
  },
  {
   "cell_type": "code",
   "execution_count": 32,
   "metadata": {
    "collapsed": false
   },
   "outputs": [
    {
     "data": {
      "text/plain": [
       "4"
      ]
     },
     "execution_count": 32,
     "metadata": {},
     "output_type": "execute_result"
    }
   ],
   "source": [
    "np.trace(arr)  # 矩阵的迹（主对角线元素之和）"
   ]
  },
  {
   "cell_type": "code",
   "execution_count": 33,
   "metadata": {
    "collapsed": false
   },
   "outputs": [
    {
     "data": {
      "text/plain": [
       "array([[ 1.],\n",
       "       [ 2.]])"
      ]
     },
     "execution_count": 33,
     "metadata": {},
     "output_type": "execute_result"
    }
   ],
   "source": [
    "Y = np.array([5, 10]).reshape(2, 1)\n",
    "np.linalg.solve(arr, Y)  # 解线性方程组 arr * X = Y"
   ]
  },
  {
   "cell_type": "code",
   "execution_count": 34,
   "metadata": {
    "collapsed": false
   },
   "outputs": [
    {
     "data": {
      "text/plain": [
       "(array([[ 1.],\n",
       "        [ 2.]]),\n",
       " array([], dtype=float64),\n",
       " 2,\n",
       " array([ 5.39834564,  0.92620968]))"
      ]
     },
     "execution_count": 34,
     "metadata": {},
     "output_type": "execute_result"
    }
   ],
   "source": [
    "np.linalg.lstsq(arr, Y)  # 最小二乘解"
   ]
  },
  {
   "cell_type": "code",
   "execution_count": 35,
   "metadata": {
    "collapsed": false
   },
   "outputs": [
    {
     "data": {
      "text/plain": [
       "(array([[-0.4472136 ],\n",
       "        [-0.89442719]]), array([[-11.18033989]]))"
      ]
     },
     "execution_count": 35,
     "metadata": {},
     "output_type": "execute_result"
    }
   ],
   "source": [
    "np.linalg.qr(Y)  # QR分解"
   ]
  },
  {
   "cell_type": "markdown",
   "metadata": {},
   "source": [
    "## 高级矩阵运算\n",
    "### 条件逻辑：np.where\n",
    "\n",
    "np.where(condition_arr, xarr, yarr) 表示：如果condition_arr 对应值为真，那么从 xarr 取值；否则从 yarr 取值。"
   ]
  },
  {
   "cell_type": "code",
   "execution_count": 36,
   "metadata": {
    "collapsed": false
   },
   "outputs": [
    {
     "data": {
      "text/plain": [
       "array([[  1.,   2.,   3.],\n",
       "       [ nan,  nan,   0.],\n",
       "       [  4.,   5.,   6.]])"
      ]
     },
     "execution_count": 36,
     "metadata": {},
     "output_type": "execute_result"
    }
   ],
   "source": [
    "xarr = np.array([[1, 2, 3],[-1, -2, 0], [4, 5, 6]])\n",
    "np.where(xarr >= 0, xarr, np.nan)  # 把小于零的全部替换为 NaN"
   ]
  },
  {
   "cell_type": "markdown",
   "metadata": {},
   "source": [
    "### 布尔型矩阵：arr.any() / arr.all()\n",
    "\n",
    "布尔型矩阵是指每个元素为 True 或者 False 的矩阵。"
   ]
  },
  {
   "cell_type": "code",
   "execution_count": 37,
   "metadata": {
    "collapsed": false
   },
   "outputs": [
    {
     "name": "stdout",
     "output_type": "stream",
     "text": [
      "True False\n"
     ]
    }
   ],
   "source": [
    "boolarr = np.array([False, True, False])\n",
    "print(boolarr.any(),  # 是否存在 True\n",
    "      boolarr.all())  # 是否全是 True"
   ]
  },
  {
   "cell_type": "markdown",
   "metadata": {},
   "source": [
    "### 唯一化和集合函数\n",
    "\n",
    "所有重复的元素只保留一个，像集合一样。返回的结果是已排序过后的。"
   ]
  },
  {
   "cell_type": "code",
   "execution_count": 38,
   "metadata": {
    "collapsed": false
   },
   "outputs": [
    {
     "data": {
      "text/plain": [
       "array([-1,  1,  2,  3,  4,  5])"
      ]
     },
     "execution_count": 38,
     "metadata": {},
     "output_type": "execute_result"
    }
   ],
   "source": [
    "xarr = np.array([[1, 2, 2, 5], [3, -1, 4, 4]])\n",
    "yarr = np.array([[-1, 2, 2, 6], [-2, -1, 1, 3]])\n",
    "np.unique(xarr)"
   ]
  },
  {
   "cell_type": "code",
   "execution_count": 39,
   "metadata": {
    "collapsed": false
   },
   "outputs": [
    {
     "name": "stdout",
     "output_type": "stream",
     "text": [
      "[-1  1  2  3] [-2 -1  1  2  3  4  5  6] [ True  True  True False  True  True False False] [4 5] [-2  4  5  6]\n"
     ]
    }
   ],
   "source": [
    "print(np.intersect1d(xarr, yarr),  # 交集\n",
    "      np.union1d(xarr, yarr),  # 并集\n",
    "      np.in1d(xarr, yarr),  # xarr 中的对应元素是否在 yarr 中\n",
    "      np.setdiff1d(xarr, yarr),  # 在 xarr 中但不在 yarr 中的元素\n",
    "      np.setxor1d(xarr, yarr))  # 仅存在于 xarr / yarr 之一的元素"
   ]
  },
  {
   "cell_type": "markdown",
   "metadata": {},
   "source": [
    "## 保存与读取"
   ]
  },
  {
   "cell_type": "code",
   "execution_count": 40,
   "metadata": {
    "collapsed": true
   },
   "outputs": [],
   "source": [
    "# 保存\n",
    "# np.save(filename_string, arr)  # 把单个数组保存到 filename_string.npy 中\n",
    "# np.savez(zipname_string, a=arr1, b=arr2, ...)  # 把多个数组压缩保存到 zipname_string.npz 中\n",
    "\n",
    "# 读取\n",
    "# arr = np.load('filename_string.npy')  # 直接获取单个数组\n",
    "# arrzip = np.load('zipname_string.npz')  # 将压缩包读取到字典 arrzip 中\n",
    "# arr1 = arrzip['a']\n",
    "\n",
    "# 保存 / 读取 txt\n",
    "# arr = np.loadtxt('txtname.txt', delimeter=',')  # 保存 txt 用savetxt"
   ]
  },
  {
   "cell_type": "markdown",
   "metadata": {},
   "source": [
    "## 后记\n",
    "\n",
    "NumPy 的基本就到这里结束了。对于数据处理而言，Pandas是更强大的工具。NumPy 和 SciPy 则可以共同完成很多数学计算方面的内容。"
   ]
  }
 ],
 "metadata": {
  "kernelspec": {
   "display_name": "Python 3",
   "language": "python",
   "name": "python3"
  },
  "language_info": {
   "codemirror_mode": {
    "name": "ipython",
    "version": 3
   },
   "file_extension": ".py",
   "mimetype": "text/x-python",
   "name": "python",
   "nbconvert_exporter": "python",
   "pygments_lexer": "ipython3",
   "version": "3.4.4"
  }
 },
 "nbformat": 4,
 "nbformat_minor": 1
}
