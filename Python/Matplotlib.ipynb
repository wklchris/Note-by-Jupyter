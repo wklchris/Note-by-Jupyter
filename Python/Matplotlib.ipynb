{
 "cells": [
  {
   "cell_type": "markdown",
   "metadata": {},
   "source": [
    "# Matplotlib\n",
    "\n",
    "*Chris Wu*  \n",
    "*2016年10月*\n",
    "\n",
    "**注意：建议无经验的读者先阅读 [Numpy & Pandas](https://github.com/wklchris/Note-by-Jupyter/blob/master/Python/Numpy%20&%20Pandas.ipynb)。不过如果你只是想要学习简单的画图功能而不是一整套数据可视化方案，你可以不必学习 Numpy&Pandas 而直接阅读本笔记。**\n",
    "\n",
    "---\n",
    "\n",
    "本手册中的每一个例子都默认加载了以下三行内容："
   ]
  },
  {
   "cell_type": "code",
   "execution_count": 1,
   "metadata": {
    "collapsed": true
   },
   "outputs": [],
   "source": [
    "import numpy as np\n",
    "from pandas import Series, DataFrame\n",
    "from matplotlib import pyplot as plt"
   ]
  },
  {
   "cell_type": "markdown",
   "metadata": {},
   "source": [
    "# 引言：简单的示例\n",
    "\n",
    "最基本的命令是 plt.plot 和 plt.show 命令："
   ]
  },
  {
   "cell_type": "code",
   "execution_count": 2,
   "metadata": {
    "collapsed": false,
    "scrolled": true,
    "slideshow": {
     "slide_type": "-"
    }
   },
   "outputs": [
    {
     "data": {
      "image/png": "[encoded data removed]",
      "text/plain": [
       "<matplotlib.figure.Figure at 0x49a92e8>"
      ]
     },
     "metadata": {},
     "output_type": "display_data"
    }
   ],
   "source": [
    "x = [0, 1, 2, 3]\n",
    "y = [0, 2, 3, 1]\n",
    "plt. plot(x, y)\n",
    "plt.show()"
   ]
  },
  {
   "cell_type": "markdown",
   "metadata": {},
   "source": [
    "如果你有 NumPy 相关的知识，你也可以使用其他命令："
   ]
  },
  {
   "cell_type": "code",
   "execution_count": 3,
   "metadata": {
    "collapsed": false
   },
   "outputs": [],
   "source": [
    "# 你也可以使用以下两种写法，返回结果一致\n",
    "x = np.linspace(0, 4, 4)  # 区间[0, 4]上一共4个点的均匀数组\n",
    "x = np.arange(0, 5, 1)    # 区间[0, 5)上步长为1的均匀数组"
   ]
  },
  {
   "cell_type": "markdown",
   "metadata": {},
   "source": [
    "# 基础命令\n",
    "\n",
    "## 绘图：plt.plot\n",
    "\n",
    "最基本的 plt.plot 命令还有许多参数可以使用。包括线型（linestyle）、线宽（linewidth）、点样式（marker）和线色(linecolor)。\n",
    "\n",
    "| **线型**    |          |           |            |\n",
    "| ---       | ---         | ---       | ---         |\n",
    "| '-' 实线    |  '--' 虚线    | '-.' 点划线  |  ':' 点线      |\n",
    "| **点样式**   |          |           |            |\n",
    "| '.' 实心点   | ',' 像素点   | 'o' 圆点   | 's' 方块      |\n",
    "| 'v' 下折箭头  | '^' 上折箭头  | '<' 左折箭头  | '>' 右折箭头   | \n",
    "| 'p' 五边形   | '\\*' 星形    | 'h' 六边形   | 'H' 变种六边形  |\n",
    "| '+' 加号    |  'x' X号     | 'D' 钻石形   |  'd' 纤钻石形  | \n",
    "| '&#124;' 竖线    | '\\_' 横线    |          |          |\n",
    "| **线色**    |           |          |            |\n",
    "| RGB  | 'r' 红  | 'g' 绿   | 'b' 蓝  |  \n",
    "| CMYK | 'c'/'m' 青/洋红 | 'y'/'k' 黄/黑  | 'w' 白 |"
   ]
  },
  {
   "cell_type": "code",
   "execution_count": 4,
   "metadata": {
    "collapsed": false
   },
   "outputs": [
    {
     "data": {
      "image/png": "[encoded data removed]",
      "text/plain": [
       "<matplotlib.figure.Figure at 0x82a6a20>"
      ]
     },
     "metadata": {},
     "output_type": "display_data"
    }
   ],
   "source": [
    "x = np.linspace(-3, 3, 100)\n",
    "y1 = 6*x\n",
    "y2 = 2*x**2\n",
    "\n",
    "plt.plot(x, y1, color='black', linestyle=':')  # 你也可以偷懒写成：plt.plot(x, y1, 'b:')\n",
    "plt.plot(x, y2, linewidth=2, linestyle='--')\n",
    "plt.plot(x, [xi**3/2 for xi in x])\n",
    "plt.show()"
   ]
  },
  {
   "cell_type": "markdown",
   "metadata": {},
   "source": [
    "其中颜色**可以自己用 RGB 坐标，或者灰度，或者 6位HTML颜色码**指定。\n",
    "\n",
    "    ... color = '#66ccff'  # 写成大写形式也可以：'#66CCFF' \n",
    "    ... color = (1, 0, 0)  # RGB形式\n",
    "    ... color = '0.8 '    # 灰度形式 (1.0是白色, 0.0 是黑色)"
   ]
  },
  {
   "cell_type": "markdown",
   "metadata": {},
   "source": [
    "其他的一些可能用到的参数也列出如下，请自行测试：\n",
    "\n",
    "| 参数 | 含义 | 可选值 |\n",
    "| --- | --- | --- |\n",
    "| markeredgewidth | 点边线宽度 | 数字 |\n",
    "| markeredgecolor | 点边线颜色 | 同 linecolor |\n",
    "| markerfacecolor | 点内部颜色 | 同 linecolor |\n",
    "| markersize    | 点大小     | 数字 | \n",
    "| dashes       | 虚线比例   | 元组(a, b)，“线：空距” | \n",
    "| drawstyle     | 绘制样式   | 'default/steps/steps-pre/steps-mid' |\n",
    "| solid_capstyle  | 线段末端样式 | 'butt/round/projecting' |"
   ]
  },
  {
   "cell_type": "markdown",
   "metadata": {},
   "source": [
    "## 叠加绘图：plt.hold\n",
    "\n",
    "一个简单的命令，用于控制是否开启叠加绘图模式（默认开启）。"
   ]
  },
  {
   "cell_type": "code",
   "execution_count": 5,
   "metadata": {
    "collapsed": false
   },
   "outputs": [
    {
     "data": {
      "image/png": "[encoded data removed]",
      "text/plain": [
       "<matplotlib.figure.Figure at 0x49d1ac8>"
      ]
     },
     "metadata": {},
     "output_type": "display_data"
    }
   ],
   "source": [
    "plt.plot([1, 2], [1, 2], 'r-')  # 这条命令被后面的覆盖了，没有显示出来\n",
    "plt.hold(False)\n",
    "plt.plot([1, 2], [2, 1], 'k-D', markersize=10, markerfacecolor='w')\n",
    "plt.show()"
   ]
  },
  {
   "cell_type": "markdown",
   "metadata": {},
   "source": [
    "## 坐标轴区间：plt.axis/plt.xlim/plt.ylim\n",
    "\n",
    "关于坐标轴数值范围的问题使用这几个命令可以解决。例如，可以通过 plt.axis 命令调整绘图范围："
   ]
  },
  {
   "cell_type": "code",
   "execution_count": 6,
   "metadata": {
    "collapsed": false
   },
   "outputs": [
    {
     "data": {
      "image/png": "[encoded data removed]",
      "text/plain": [
       "<matplotlib.figure.Figure at 0x84fe2e8>"
      ]
     },
     "metadata": {},
     "output_type": "display_data"
    }
   ],
   "source": [
    "x = np.arange(0, 9, 1)\n",
    "y = x**(1/2)\n",
    "plt.plot(x, y, 'ro')\n",
    "\n",
    "plt.axis([-1, 10, -1, 4])\n",
    "plt.show()"
   ]
  },
  {
   "cell_type": "markdown",
   "metadata": {},
   "source": [
    "plt.axis 也可以用 xmin/xmax/ymin/ymax 参数，仅仅指定一侧的范围，比如："
   ]
  },
  {
   "cell_type": "code",
   "execution_count": 7,
   "metadata": {
    "collapsed": false
   },
   "outputs": [
    {
     "data": {
      "image/png": "[encoded data removed]",
      "text/plain": [
       "<matplotlib.figure.Figure at 0x4afe668>"
      ]
     },
     "metadata": {},
     "output_type": "display_data"
    }
   ],
   "source": [
    "plt.plot(x, y, 'ko')\n",
    "\n",
    "plt.axis(xmin=0, ymax=3)\n",
    "plt.show()"
   ]
  },
  {
   "cell_type": "markdown",
   "metadata": {},
   "source": [
    "其他的一些 plt.axis 的参数：\n",
    "\n",
    "| 参数可选值 | 含义 |\n",
    "| --- | --- |\n",
    "| 'off'    | 去除坐标轴 |\n",
    "| 'equal'  | 使坐标轴区间长相同 | \n",
    "| 'scaled' | 使坐标轴单位刻度长相同 |\n",
    "| 'tight'  | 使绘图范围恰好包括所有数据点 |\n",
    "| 'square' | 结合 'equal' 与 'scaled'|\n",
    "\n",
    "下面是一个例子："
   ]
  },
  {
   "cell_type": "code",
   "execution_count": 8,
   "metadata": {
    "collapsed": false
   },
   "outputs": [
    {
     "data": {
      "image/png": "[encoded data removed]",
      "text/plain": [
       "<matplotlib.figure.Figure at 0x9c4da90>"
      ]
     },
     "metadata": {},
     "output_type": "display_data"
    }
   ],
   "source": [
    "# subplot 是子图命令，(1,2,1)表示一共1行2列，画子图1\n",
    "ax1 = plt.subplot(1, 2, 1)\n",
    "plt.plot(x, y, 'bo')\n",
    "plt.axis('off')\n",
    "\n",
    "ax2 = plt.subplot(1, 2, 2)\n",
    "plt.plot(x, y, 'ro')\n",
    "plt.axis([-1, 9, -1, 3], 'scaled')\n",
    "\n",
    "plt.show()"
   ]
  },
  {
   "cell_type": "markdown",
   "metadata": {},
   "source": [
    "plt.xlim 还有 plt.ylim 的用法就不多说了，一句话带过："
   ]
  },
  {
   "cell_type": "code",
   "execution_count": 9,
   "metadata": {
    "collapsed": false
   },
   "outputs": [
    {
     "data": {
      "image/png": "[encoded data removed]",
      "text/plain": [
       "<matplotlib.figure.Figure at 0x9c7a1d0>"
      ]
     },
     "metadata": {},
     "output_type": "display_data"
    }
   ],
   "source": [
    "plt.plot(x, y, 'ko')\n",
    "\n",
    "plt.xlim([-1, 10])\n",
    "plt.show()"
   ]
  },
  {
   "cell_type": "markdown",
   "metadata": {},
   "source": [
    "## 坐标轴刻度：plt.xticks/plt.yticks\n",
    "\n"
   ]
  },
  {
   "cell_type": "markdown",
   "metadata": {},
   "source": [
    "## 坐标轴标签：plt.xlabel/plt.ylabel"
   ]
  },
  {
   "cell_type": "markdown",
   "metadata": {},
   "source": [
    "## 网格线：plt.grid"
   ]
  },
  {
   "cell_type": "markdown",
   "metadata": {},
   "source": [
    "## 图例：plt.legend"
   ]
  },
  {
   "cell_type": "markdown",
   "metadata": {},
   "source": [
    "## 标题：plt.title"
   ]
  },
  {
   "cell_type": "markdown",
   "metadata": {},
   "source": [
    "## 添加文字：plt.text"
   ]
  },
  {
   "cell_type": "markdown",
   "metadata": {},
   "source": [
    "## 子图：plt.subplot"
   ]
  },
  {
   "cell_type": "markdown",
   "metadata": {},
   "source": [
    "## 保存图片：fig.savefig"
   ]
  },
  {
   "cell_type": "markdown",
   "metadata": {},
   "source": [
    "# 常见的问题"
   ]
  },
  {
   "cell_type": "code",
   "execution_count": 10,
   "metadata": {
    "collapsed": false
   },
   "outputs": [
    {
     "data": {
      "image/png": "[encoded data removed]",
      "text/plain": [
       "<matplotlib.figure.Figure at 0x9d63320>"
      ]
     },
     "metadata": {},
     "output_type": "display_data"
    }
   ],
   "source": [
    "# 如何更改坐标轴小数点位数\n",
    "import matplotlib.ticker as ticker\n",
    "\n",
    "x = np.linspace(-3, 3, 100)\n",
    "y = 2*x\n",
    "fig, ax = plt.subplots()\n",
    "ax.plot(x, y)\n",
    "ax.xaxis.set_ticks(np.arange(-3, 4, 0.5))\n",
    "ax.xaxis.set_major_formatter(ticker.FormatStrFormatter('%0.1f'))\n",
    "\n",
    "plt.show()"
   ]
  }
 ],
 "metadata": {
  "kernelspec": {
   "display_name": "Python 3",
   "language": "python",
   "name": "python3"
  },
  "language_info": {
   "codemirror_mode": {
    "name": "ipython",
    "version": 3
   },
   "file_extension": ".py",
   "mimetype": "text/x-python",
   "name": "python",
   "nbconvert_exporter": "python",
   "pygments_lexer": "ipython3",
   "version": "3.4.4"
  }
 },
 "nbformat": 4,
 "nbformat_minor": 1
}
